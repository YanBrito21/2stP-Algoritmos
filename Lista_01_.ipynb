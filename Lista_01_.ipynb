{
 "cells": [
  {
   "cell_type": "markdown",
   "metadata": {},
   "source": [
    "1. Olá, Mundo! |\n",
    "Escreva um programa que imprime \"Olá, Mundo!\" na tela."
   ]
  },
  {
   "cell_type": "code",
   "execution_count": 1,
   "metadata": {},
   "outputs": [
    {
     "name": "stdout",
     "output_type": "stream",
     "text": [
      "Olá, Mundo!\n"
     ]
    }
   ],
   "source": [
    "def ola ():\n",
    "    return 'Olá, Mundo!'\n",
    "\n",
    "res = ola ()\n",
    "print(res)"
   ]
  },
  {
   "cell_type": "markdown",
   "metadata": {},
   "source": [
    " 2. Soma de Dois Números |\n",
    " Peça ao usuário para digitar dois números e imprima a soma deles."
   ]
  },
  {
   "cell_type": "code",
   "execution_count": 3,
   "metadata": {},
   "outputs": [
    {
     "name": "stdout",
     "output_type": "stream",
     "text": [
      "11\n"
     ]
    }
   ],
   "source": [
    "def soma (a, b):\n",
    "    return a + b \n",
    "\n",
    "res = soma (5,6)\n",
    "print(res)\n",
    "    "
   ]
  },
  {
   "cell_type": "markdown",
   "metadata": {},
   "source": [
    "3. Verificar Par ou Ímpar |\n",
    "Peça ao usuário para digitar um número inteiro e informe se o número é par ou ímpar.\n"
   ]
  },
  {
   "cell_type": "code",
   "execution_count": null,
   "metadata": {},
   "outputs": [
    {
     "name": "stdout",
     "output_type": "stream",
     "text": [
      "6 é par\n"
     ]
    },
    {
     "name": "stdout",
     "output_type": "stream",
     "text": [
      "6 é par\n"
     ]
    }
   ],
   "source": [
    "def par_impar (n):\n",
    "    if n % 2 != 0:\n",
    "        return f'{n} é impar'\n",
    "    else:\n",
    "        return f'{n} é par' \n",
    "    \n",
    "res = par_impar(6)\n",
    "print(res)"
   ]
  },
  {
   "cell_type": "markdown",
   "metadata": {},
   "source": [
    "4. Calculadora Simples |\n",
    "Crie um programa que peça dois números e a operação desejada (+, -, *, /) e exiba o resultado.\n"
   ]
  },
  {
   "cell_type": "code",
   "execution_count": 25,
   "metadata": {},
   "outputs": [
    {
     "name": "stdout",
     "output_type": "stream",
     "text": [
      "Erro\n"
     ]
    }
   ],
   "source": [
    "def calculadora ():\n",
    "    a = float(input('digite um número: '))\n",
    "    operacao = input('digite a operacao desejada. (+, -, * ou /)')\n",
    "    b = float(input('digite um número: '))\n",
    "    if operacao == '+':\n",
    "        return a + b\n",
    "    elif operacao == '-':\n",
    "        return a - b\n",
    "    elif operacao == '*':\n",
    "        return a * b\n",
    "    elif operacao == '/':\n",
    "        return a / b\n",
    "    else: \n",
    "        return 'Erro'\n",
    "    \n",
    "res = calculadora()\n",
    "print(res)\n",
    "        "
   ]
  },
  {
   "cell_type": "markdown",
   "metadata": {},
   "source": [
    "5. Média de Notas |\n",
    "Peça ao usuário para digitar três notas e calcule a média delas."
   ]
  },
  {
   "cell_type": "code",
   "execution_count": 26,
   "metadata": {},
   "outputs": [
    {
     "name": "stdout",
     "output_type": "stream",
     "text": [
      "6.0\n"
     ]
    }
   ],
   "source": [
    "def notas (a, b, c):\n",
    "    return (a + b + c) / 3\n",
    "res = notas (5, 6, 7)\n",
    "print(res)\n"
   ]
  },
  {
   "cell_type": "markdown",
   "metadata": {},
   "source": [
    "6. Converter Celsius para Fahrenheit |\n",
    "Escreva um programa que converta uma temperatura de graus Celsius para Fahrenheit."
   ]
  },
  {
   "cell_type": "code",
   "execution_count": 27,
   "metadata": {},
   "outputs": [
    {
     "name": "stdout",
     "output_type": "stream",
     "text": [
      "77.0\n"
     ]
    }
   ],
   "source": [
    "def converter (celsius):\n",
    "    return (celsius * 9/5) + 32\n",
    "res = converter(25)\n",
    "print(res)\n",
    "    "
   ]
  },
  {
   "cell_type": "markdown",
   "metadata": {},
   "source": [
    "7. Fatorial de um Número |\n",
    "Peça ao usuário para digitar um número e calcule o fatorial desse número."
   ]
  },
  {
   "cell_type": "code",
   "execution_count": 35,
   "metadata": {},
   "outputs": [
    {
     "name": "stdout",
     "output_type": "stream",
     "text": [
      "6402373705728000\n"
     ]
    }
   ],
   "source": [
    "import math \n",
    "def fatorial (n):\n",
    "    return math.factorial(n)\n",
    "\n",
    "res = fatorial(18)\n",
    "print(res)\n",
    "    \n"
   ]
  },
  {
   "cell_type": "markdown",
   "metadata": {},
   "source": [
    " 8. Contagem de Números Ímpares |\n",
    "Escreva um programa que conta e imprime todos os números ímpares entre 1 e 100."
   ]
  },
  {
   "cell_type": "code",
   "execution_count": 57,
   "metadata": {},
   "outputs": [
    {
     "name": "stdout",
     "output_type": "stream",
     "text": [
      "1 é impar\n",
      "3 é impar\n",
      "5 é impar\n",
      "7 é impar\n",
      "9 é impar\n",
      "11 é impar\n",
      "13 é impar\n",
      "15 é impar\n",
      "17 é impar\n",
      "19 é impar\n",
      "21 é impar\n",
      "23 é impar\n",
      "25 é impar\n",
      "27 é impar\n",
      "29 é impar\n",
      "31 é impar\n",
      "33 é impar\n",
      "35 é impar\n",
      "37 é impar\n",
      "39 é impar\n",
      "41 é impar\n",
      "43 é impar\n",
      "45 é impar\n",
      "47 é impar\n",
      "49 é impar\n",
      "51 é impar\n",
      "53 é impar\n",
      "55 é impar\n",
      "57 é impar\n",
      "59 é impar\n",
      "61 é impar\n",
      "63 é impar\n",
      "65 é impar\n",
      "67 é impar\n",
      "69 é impar\n",
      "71 é impar\n",
      "73 é impar\n",
      "75 é impar\n",
      "77 é impar\n",
      "79 é impar\n",
      "81 é impar\n",
      "83 é impar\n",
      "85 é impar\n",
      "87 é impar\n",
      "89 é impar\n",
      "91 é impar\n",
      "93 é impar\n",
      "95 é impar\n",
      "97 é impar\n",
      "99 é impar\n",
      "50\n"
     ]
    }
   ],
   "source": [
    "contagem = []\n",
    "def impar ():\n",
    "    for i in range(1, 100):\n",
    "        if i %2 != 0:\n",
    "            contagem.append(i)\n",
    "            print(f'{i} é impar')\n",
    "\n",
    "impar()\n",
    "\n",
    "print(len(contagem))\n",
    "            \n",
    "\n",
    "        "
   ]
  },
  {
   "cell_type": "markdown",
   "metadata": {},
   "source": [
    " 9. Verificar Número Primo |\n",
    "Peça ao usuário para digitar um número e verifique se ele é primo.\n"
   ]
  },
  {
   "cell_type": "code",
   "execution_count": 110,
   "metadata": {},
   "outputs": [
    {
     "name": "stdout",
     "output_type": "stream",
     "text": [
      "7 é primo.\n"
     ]
    }
   ],
   "source": [
    "def primo (n):\n",
    "    if n <= 1:\n",
    "        return f'{n} não é primo.'\n",
    "    elif n == 2:\n",
    "        return f'{n} é primo.'\n",
    "    else:\n",
    "        for i in range(2, n):  \n",
    "            if n % i == 0:\n",
    "                return f'{n} não é primo.'\n",
    "            else:\n",
    "                return f'{n} é primo.'\n",
    "                \n",
    "\n",
    "res = primo(7)\n",
    "print(res)"
   ]
  },
  {
   "cell_type": "markdown",
   "metadata": {},
   "source": [
    "10. Inverter uma String |\n",
    "Peça ao usuário para digitar uma string e imprima essa string de forma invertida."
   ]
  },
  {
   "cell_type": "code",
   "execution_count": 114,
   "metadata": {},
   "outputs": [
    {
     "name": "stdout",
     "output_type": "stream",
     "text": [
      "atatab\n"
     ]
    }
   ],
   "source": [
    "string = input('digite uma palavra: ')\n",
    "\n",
    "def inverter(string):\n",
    "    return string[::-1] \n",
    "\n",
    "res = inverter(string)\n",
    "print(res)"
   ]
  },
  {
   "cell_type": "markdown",
   "metadata": {},
   "source": [
    "11. Tabuada |\n",
    "Peça ao usuário para digitar um número e imprima a tabuada desse número de 1 a 10.\n"
   ]
  },
  {
   "cell_type": "code",
   "execution_count": 116,
   "metadata": {},
   "outputs": [
    {
     "name": "stdout",
     "output_type": "stream",
     "text": [
      "3\n",
      "6\n",
      "9\n",
      "12\n",
      "15\n",
      "18\n",
      "21\n",
      "24\n",
      "27\n",
      "30\n"
     ]
    }
   ],
   "source": [
    "def tabuada(n):\n",
    "    for i in range (1, 11):\n",
    "        print(i * n)\n",
    "        \n",
    "tabuada(3)"
   ]
  },
  {
   "cell_type": "markdown",
   "metadata": {},
   "source": [
    "12. Contar Vogais em uma String | \n",
    "Escreva um programa que conte o número de vogais em uma string fornecida pelo usuário."
   ]
  },
  {
   "cell_type": "code",
   "execution_count": 175,
   "metadata": {},
   "outputs": [
    {
     "name": "stdout",
     "output_type": "stream",
     "text": [
      "batata contém 3 vogais\n"
     ]
    }
   ],
   "source": [
    "string = 'batata'\n",
    "def contagem_vogais(string):\n",
    "    lista = list(string)\n",
    "    contagem = ((lista.count('a')) + (lista.count('e')) + (lista.count('i')) + (lista.count('o')) + (lista.count('u')))\n",
    "    return f'{string} contém {contagem} vogais'\n",
    "\n",
    "res = contagem_vogais(string)\n",
    "print(res)\n"
   ]
  },
  {
   "cell_type": "markdown",
   "metadata": {},
   "source": [
    " 13. Soma dos Elementos de uma Lista |\n",
    "Crie uma lista de números e escreva um programa que some todos os elementos dessa lista.\n",
    "\n"
   ]
  },
  {
   "cell_type": "code",
   "execution_count": 184,
   "metadata": {},
   "outputs": [
    {
     "data": {
      "text/plain": [
       "45"
      ]
     },
     "execution_count": 184,
     "metadata": {},
     "output_type": "execute_result"
    }
   ],
   "source": [
    "def soma(a, n):\n",
    "    lista = list(range(a, n+1))\n",
    "    return(sum(lista))\n",
    "\n",
    "soma(5,10)"
   ]
  },
  {
   "cell_type": "markdown",
   "metadata": {},
   "source": [
    "14. Encontrar o Maior Número em uma Lista |\n",
    "Peça ao usuário para digitar uma lista de números e exiba o maior número dessa lista."
   ]
  },
  {
   "cell_type": "code",
   "execution_count": 188,
   "metadata": {},
   "outputs": [
    {
     "data": {
      "text/plain": [
       "10"
      ]
     },
     "execution_count": 188,
     "metadata": {},
     "output_type": "execute_result"
    }
   ],
   "source": [
    "def maior(a, n):\n",
    "    lista = list(range(a, n+1))\n",
    "    return(max(lista))\n",
    "\n",
    "maior(1,10)\n"
   ]
  },
  {
   "cell_type": "markdown",
   "metadata": {},
   "source": [
    " 15. Números Pares em uma Lista |\n",
    "Dada uma lista de números, crie um programa que exiba apenas os números pares.\n"
   ]
  },
  {
   "cell_type": "code",
   "execution_count": 201,
   "metadata": {},
   "outputs": [
    {
     "name": "stdout",
     "output_type": "stream",
     "text": [
      "54 é par\n",
      "68 é par\n",
      "456 é par\n",
      "368 é par\n"
     ]
    }
   ],
   "source": [
    "lista = [3, 54, 33, 57, 68, 456, 231, 368]\n",
    "def par ():\n",
    "    for i in lista:\n",
    "        if i %2 == 0:\n",
    "            contagem.append(i)\n",
    "            print(f'{i} é par')\n",
    "par()\n",
    "\n",
    " "
   ]
  },
  {
   "cell_type": "markdown",
   "metadata": {},
   "source": [
    "16. Contagem Regressiva |\n",
    "Escreva um programa que faça uma contagem regressiva de 10 a 0, imprimindo os números na tela."
   ]
  },
  {
   "cell_type": "code",
   "execution_count": 218,
   "metadata": {},
   "outputs": [
    {
     "name": "stdout",
     "output_type": "stream",
     "text": [
      "10\n",
      "9\n",
      "8\n",
      "7\n",
      "6\n",
      "5\n",
      "4\n",
      "3\n",
      "2\n",
      "1\n",
      "0\n"
     ]
    }
   ],
   "source": [
    "import time\n",
    "\n",
    "def contagem_regressiva(n):\n",
    "    while n > -1:\n",
    "        print(n)\n",
    "        time.sleep(1)\n",
    "        n -= 1\n",
    "contagem_regressiva(10)\n",
    "    "
   ]
  },
  {
   "cell_type": "code",
   "execution_count": 215,
   "metadata": {},
   "outputs": [
    {
     "name": "stdout",
     "output_type": "stream",
     "text": [
      "10\n",
      "9\n",
      "8\n",
      "7\n",
      "6\n",
      "5\n",
      "4\n",
      "3\n",
      "2\n",
      "1\n",
      "0\n"
     ]
    }
   ],
   "source": [
    "for i in range (10, -1 , -1):\n",
    "    print(i)"
   ]
  },
  {
   "cell_type": "markdown",
   "metadata": {},
   "source": [
    "17. Calculando a Sequência de Fibonacci |\n",
    "Escreva um programa que gera os primeiros 10 números da sequência de Fibonacci."
   ]
  },
  {
   "cell_type": "code",
   "execution_count": 245,
   "metadata": {},
   "outputs": [
    {
     "data": {
      "text/plain": [
       "[0, 1, 1, 2, 3, 5, 8, 13, 21, 34]"
      ]
     },
     "execution_count": 245,
     "metadata": {},
     "output_type": "execute_result"
    }
   ],
   "source": [
    "\n",
    "def fibonacci(n):\n",
    "    seq = []\n",
    "    a, b = 0, 1\n",
    "    while a <= n:\n",
    "        seq.append(a)\n",
    "        a, b = b, a + b\n",
    "    return seq\n",
    "\n",
    "fibonacci(34)"
   ]
  },
  {
   "cell_type": "markdown",
   "metadata": {},
   "source": [
    "18. Simulação de Lançamento de Moeda |\n",
    "Crie um programa que simule o lançamento de uma moeda (cara ou coroa) e exiba o resultado."
   ]
  },
  {
   "cell_type": "code",
   "execution_count": 257,
   "metadata": {},
   "outputs": [
    {
     "name": "stdout",
     "output_type": "stream",
     "text": [
      "Cara\n"
     ]
    }
   ],
   "source": [
    "import random\n",
    "moeda = ['Cara', 'Coroa']\n",
    "def cara_coroa():\n",
    "    return random.choice(moeda)\n",
    "res = cara_coroa()\n",
    "print(res)"
   ]
  },
  {
   "cell_type": "markdown",
   "metadata": {},
   "source": [
    " 19. Verificar Palíndromo |\n",
    "Peça ao usuário para digitar uma palavra e verifique se ela é um palíndromo (lê-se da mesma forma de trás para frente)."
   ]
  },
  {
   "cell_type": "code",
   "execution_count": 262,
   "metadata": {},
   "outputs": [
    {
     "name": "stdout",
     "output_type": "stream",
     "text": [
      "palindromo\n"
     ]
    }
   ],
   "source": [
    "palavra = 'ana'\n",
    "def palindromo (palavra):\n",
    "    if palavra == palavra[::-1]:\n",
    "        return 'palindromo'\n",
    "    else:\n",
    "        return 'não é palindromo'\n",
    "res = palindromo(palavra)\n",
    "print(res)"
   ]
  },
  {
   "cell_type": "markdown",
   "metadata": {},
   "source": [
    "  20. Jogo de Adivinhação |\n",
    "Crie um programa onde o computador escolhe um número aleatório entre 1 e 100 e o usuário deve tentar adivinhar o número. O programa deve dar dicas se o número escolhido é maior ou menor que a tentativa do usuário."
   ]
  },
  {
   "cell_type": "code",
   "execution_count": 4,
   "metadata": {},
   "outputs": [
    {
     "name": "stdout",
     "output_type": "stream",
     "text": [
      "56 é menor que o número escolhido pela maquina.\n",
      "78 é maior que o número escolhido pela maquina.\n",
      "66 é maior que o número escolhido pela maquina.\n",
      "58 é menor que o número escolhido pela maquina.\n",
      "62 é maior que o número escolhido pela maquina.\n",
      "62 é maior que o número escolhido pela maquina.\n",
      "59 Você acertou!\n"
     ]
    }
   ],
   "source": [
    "import random\n",
    "numero = 0\n",
    "escolha = random.randint(1,100)\n",
    "numero = (escolha)\n",
    "sua_escolha = int(input('Escolha um numero: '))\n",
    " \n",
    "while True:\n",
    "    if sua_escolha == numero:\n",
    "        print(f'{numero} Você acertou!')\n",
    "        break\n",
    "    elif sua_escolha > numero:   \n",
    "        print(f'{sua_escolha} é maior que o número escolhido pela maquina.')\n",
    "        sua_escolha = int(input('Escolha um numero: '))\n",
    "    elif sua_escolha < numero:\n",
    "        print(f'{sua_escolha} é menor que o número escolhido pela maquina.')\n",
    "        sua_escolha = int(input('Escolha um numero: '))"
   ]
  }
 ],
 "metadata": {
  "kernelspec": {
   "display_name": "base",
   "language": "python",
   "name": "python3"
  },
  "language_info": {
   "codemirror_mode": {
    "name": "ipython",
    "version": 3
   },
   "file_extension": ".py",
   "mimetype": "text/x-python",
   "name": "python",
   "nbconvert_exporter": "python",
   "pygments_lexer": "ipython3",
   "version": "3.11.7"
  }
 },
 "nbformat": 4,
 "nbformat_minor": 2
}
